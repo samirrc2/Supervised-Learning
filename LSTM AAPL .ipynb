{
 "cells": [
  {
   "cell_type": "code",
   "execution_count": 54,
   "metadata": {},
   "outputs": [],
   "source": [
    "import pandas as pd\n",
    "import bt\n",
    "import arch\n",
    "%matplotlib inline\n",
    "import matplotlib.pyplot as plt\n",
    "import seaborn\n",
    "import numpy as np"
   ]
  },
  {
   "cell_type": "code",
   "execution_count": 55,
   "metadata": {},
   "outputs": [
    {
     "data": {
      "text/html": [
       "<div>\n",
       "<style scoped>\n",
       "    .dataframe tbody tr th:only-of-type {\n",
       "        vertical-align: middle;\n",
       "    }\n",
       "\n",
       "    .dataframe tbody tr th {\n",
       "        vertical-align: top;\n",
       "    }\n",
       "\n",
       "    .dataframe thead th {\n",
       "        text-align: right;\n",
       "    }\n",
       "</style>\n",
       "<table border=\"1\" class=\"dataframe\">\n",
       "  <thead>\n",
       "    <tr style=\"text-align: right;\">\n",
       "      <th></th>\n",
       "      <th>aapl</th>\n",
       "    </tr>\n",
       "    <tr>\n",
       "      <th>Date</th>\n",
       "      <th></th>\n",
       "    </tr>\n",
       "  </thead>\n",
       "  <tbody>\n",
       "    <tr>\n",
       "      <th>2020-03-23</th>\n",
       "      <td>224.369995</td>\n",
       "    </tr>\n",
       "    <tr>\n",
       "      <th>2020-03-24</th>\n",
       "      <td>246.880005</td>\n",
       "    </tr>\n",
       "    <tr>\n",
       "      <th>2020-03-25</th>\n",
       "      <td>245.520004</td>\n",
       "    </tr>\n",
       "    <tr>\n",
       "      <th>2020-03-26</th>\n",
       "      <td>258.440002</td>\n",
       "    </tr>\n",
       "    <tr>\n",
       "      <th>2020-03-27</th>\n",
       "      <td>247.740005</td>\n",
       "    </tr>\n",
       "  </tbody>\n",
       "</table>\n",
       "</div>"
      ],
      "text/plain": [
       "                  aapl\n",
       "Date                  \n",
       "2020-03-23  224.369995\n",
       "2020-03-24  246.880005\n",
       "2020-03-25  245.520004\n",
       "2020-03-26  258.440002\n",
       "2020-03-27  247.740005"
      ]
     },
     "execution_count": 55,
     "metadata": {},
     "output_type": "execute_result"
    }
   ],
   "source": [
    "dataset_train = bt.get('AAPL', start='2015-01-01')\n",
    "dataset_train.tail()"
   ]
  },
  {
   "cell_type": "code",
   "execution_count": 58,
   "metadata": {},
   "outputs": [
    {
     "data": {
      "text/plain": [
       "1298"
      ]
     },
     "execution_count": 58,
     "metadata": {},
     "output_type": "execute_result"
    }
   ],
   "source": [
    "training_set = dataset_train.iloc[:1298,:].values\n",
    "#len(training_set)\n",
    "#\n",
    "\n",
    "len(training_set)\n"
   ]
  },
  {
   "cell_type": "code",
   "execution_count": 59,
   "metadata": {},
   "outputs": [],
   "source": [
    "from sklearn.preprocessing import MinMaxScaler\n",
    "sc = MinMaxScaler(feature_range = (0, 1))\n",
    "training_set_scaled = sc.fit_transform(training_set)"
   ]
  },
  {
   "cell_type": "code",
   "execution_count": 60,
   "metadata": {},
   "outputs": [],
   "source": [
    "X_train = []\n",
    "y_train = []\n",
    "for i in range(60, 1298):\n",
    "    X_train.append(training_set_scaled[i-60:i, 0])\n",
    "    y_train.append(training_set_scaled[i, 0])\n",
    "X_train, y_train = np.array(X_train), np.array(y_train)\n",
    "\n",
    "X_train = np.reshape(X_train, (X_train.shape[0], X_train.shape[1], 1))"
   ]
  },
  {
   "cell_type": "code",
   "execution_count": 61,
   "metadata": {},
   "outputs": [],
   "source": [
    "from keras.models import Sequential\n",
    "from keras.layers import Dense\n",
    "from keras.layers import LSTM\n",
    "from keras.layers import Dropout"
   ]
  },
  {
   "cell_type": "code",
   "execution_count": 62,
   "metadata": {},
   "outputs": [
    {
     "name": "stdout",
     "output_type": "stream",
     "text": [
      "Epoch 1/100\n",
      "1238/1238 [==============================] - 6s 5ms/step - loss: 0.0190\n",
      "Epoch 2/100\n",
      "1238/1238 [==============================] - 4s 3ms/step - loss: 0.0035\n",
      "Epoch 3/100\n",
      "1238/1238 [==============================] - 4s 3ms/step - loss: 0.0032\n",
      "Epoch 4/100\n",
      "1238/1238 [==============================] - 5s 4ms/step - loss: 0.0031\n",
      "Epoch 5/100\n",
      "1238/1238 [==============================] - 5s 4ms/step - loss: 0.0030\n",
      "Epoch 6/100\n",
      "1238/1238 [==============================] - 6s 5ms/step - loss: 0.0023\n",
      "Epoch 7/100\n",
      "1238/1238 [==============================] - 5s 4ms/step - loss: 0.0028\n",
      "Epoch 8/100\n",
      "1238/1238 [==============================] - 5s 4ms/step - loss: 0.0022\n",
      "Epoch 9/100\n",
      "1238/1238 [==============================] - 5s 4ms/step - loss: 0.0022\n",
      "Epoch 10/100\n",
      "1238/1238 [==============================] - 5s 4ms/step - loss: 0.0024\n",
      "Epoch 11/100\n",
      "1238/1238 [==============================] - 5s 4ms/step - loss: 0.0019\n",
      "Epoch 12/100\n",
      "1238/1238 [==============================] - 5s 4ms/step - loss: 0.0021\n",
      "Epoch 13/100\n",
      "1238/1238 [==============================] - 5s 4ms/step - loss: 0.0021\n",
      "Epoch 14/100\n",
      "1238/1238 [==============================] - 5s 4ms/step - loss: 0.0021\n",
      "Epoch 15/100\n",
      "1238/1238 [==============================] - 5s 4ms/step - loss: 0.0017\n",
      "Epoch 16/100\n",
      "1238/1238 [==============================] - 5s 4ms/step - loss: 0.0015\n",
      "Epoch 17/100\n",
      "1238/1238 [==============================] - 5s 4ms/step - loss: 0.0017\n",
      "Epoch 18/100\n",
      "1238/1238 [==============================] - 5s 4ms/step - loss: 0.0015\n",
      "Epoch 19/100\n",
      "1238/1238 [==============================] - 5s 4ms/step - loss: 0.0017\n",
      "Epoch 20/100\n",
      "1238/1238 [==============================] - 5s 4ms/step - loss: 0.0020\n",
      "Epoch 21/100\n",
      "1238/1238 [==============================] - 5s 4ms/step - loss: 0.0017\n",
      "Epoch 22/100\n",
      "1238/1238 [==============================] - 5s 4ms/step - loss: 0.0015\n",
      "Epoch 23/100\n",
      "1238/1238 [==============================] - 5s 4ms/step - loss: 0.0016\n",
      "Epoch 24/100\n",
      "1238/1238 [==============================] - 5s 4ms/step - loss: 0.0017\n",
      "Epoch 25/100\n",
      "1238/1238 [==============================] - 5s 4ms/step - loss: 0.0017\n",
      "Epoch 26/100\n",
      "1238/1238 [==============================] - 5s 4ms/step - loss: 0.0017\n",
      "Epoch 27/100\n",
      "1238/1238 [==============================] - 5s 4ms/step - loss: 0.0016\n",
      "Epoch 28/100\n",
      "1238/1238 [==============================] - 5s 4ms/step - loss: 0.0013\n",
      "Epoch 29/100\n",
      "1238/1238 [==============================] - 5s 4ms/step - loss: 0.0013\n",
      "Epoch 30/100\n",
      "1238/1238 [==============================] - 5s 4ms/step - loss: 0.0016\n",
      "Epoch 31/100\n",
      "1238/1238 [==============================] - 5s 4ms/step - loss: 0.0015\n",
      "Epoch 32/100\n",
      "1238/1238 [==============================] - 5s 4ms/step - loss: 0.0014\n",
      "Epoch 33/100\n",
      "1238/1238 [==============================] - 5s 4ms/step - loss: 0.0015\n",
      "Epoch 34/100\n",
      "1238/1238 [==============================] - 5s 4ms/step - loss: 0.0013\n",
      "Epoch 35/100\n",
      "1238/1238 [==============================] - 5s 4ms/step - loss: 0.0014\n",
      "Epoch 36/100\n",
      "1238/1238 [==============================] - 5s 4ms/step - loss: 0.0014\n",
      "Epoch 37/100\n",
      "1238/1238 [==============================] - 5s 4ms/step - loss: 0.0015\n",
      "Epoch 38/100\n",
      "1238/1238 [==============================] - 5s 4ms/step - loss: 0.0011\n",
      "Epoch 39/100\n",
      "1238/1238 [==============================] - 5s 4ms/step - loss: 0.0014\n",
      "Epoch 40/100\n",
      "1238/1238 [==============================] - 5s 4ms/step - loss: 0.0014\n",
      "Epoch 41/100\n",
      "1238/1238 [==============================] - 6s 5ms/step - loss: 0.0013\n",
      "Epoch 42/100\n",
      "1238/1238 [==============================] - 5s 4ms/step - loss: 0.0012\n",
      "Epoch 43/100\n",
      "1238/1238 [==============================] - 5s 4ms/step - loss: 0.0016\n",
      "Epoch 44/100\n",
      "1238/1238 [==============================] - 5s 4ms/step - loss: 0.0011\n",
      "Epoch 45/100\n",
      "1238/1238 [==============================] - 5s 4ms/step - loss: 0.0011\n",
      "Epoch 46/100\n",
      "1238/1238 [==============================] - 5s 4ms/step - loss: 0.0010\n",
      "Epoch 47/100\n",
      "1238/1238 [==============================] - 5s 4ms/step - loss: 0.0014\n",
      "Epoch 48/100\n",
      "1238/1238 [==============================] - 5s 4ms/step - loss: 0.0011\n",
      "Epoch 49/100\n",
      "1238/1238 [==============================] - 6s 5ms/step - loss: 0.0013\n",
      "Epoch 50/100\n",
      "1238/1238 [==============================] - 5s 4ms/step - loss: 0.0013\n",
      "Epoch 51/100\n",
      "1238/1238 [==============================] - 5s 4ms/step - loss: 0.0011\n",
      "Epoch 52/100\n",
      "1238/1238 [==============================] - 5s 4ms/step - loss: 0.0012\n",
      "Epoch 53/100\n",
      "1238/1238 [==============================] - 5s 4ms/step - loss: 0.0012\n",
      "Epoch 54/100\n",
      "1238/1238 [==============================] - 6s 5ms/step - loss: 0.0011\n",
      "Epoch 55/100\n",
      "1238/1238 [==============================] - 5s 4ms/step - loss: 9.2773e-04\n",
      "Epoch 56/100\n",
      "1238/1238 [==============================] - 5s 4ms/step - loss: 9.6253e-04\n",
      "Epoch 57/100\n",
      "1238/1238 [==============================] - 5s 4ms/step - loss: 9.1327e-04\n",
      "Epoch 58/100\n",
      "1238/1238 [==============================] - 5s 4ms/step - loss: 9.0334e-04\n",
      "Epoch 59/100\n",
      "1238/1238 [==============================] - 5s 4ms/step - loss: 0.0010\n",
      "Epoch 60/100\n",
      "1238/1238 [==============================] - 5s 4ms/step - loss: 9.6051e-04\n",
      "Epoch 61/100\n",
      "1238/1238 [==============================] - 5s 4ms/step - loss: 0.0012\n",
      "Epoch 62/100\n",
      "1238/1238 [==============================] - 5s 4ms/step - loss: 0.0011\n",
      "Epoch 63/100\n",
      "1238/1238 [==============================] - 5s 4ms/step - loss: 0.0012\n",
      "Epoch 64/100\n",
      "1238/1238 [==============================] - 5s 4ms/step - loss: 0.0011\n",
      "Epoch 65/100\n",
      "1238/1238 [==============================] - 5s 4ms/step - loss: 8.5915e-04\n",
      "Epoch 66/100\n",
      "1238/1238 [==============================] - 5s 4ms/step - loss: 9.4709e-04\n",
      "Epoch 67/100\n",
      "1238/1238 [==============================] - 5s 4ms/step - loss: 8.9018e-04\n",
      "Epoch 68/100\n",
      "1238/1238 [==============================] - 5s 4ms/step - loss: 9.5654e-04\n",
      "Epoch 69/100\n",
      "1238/1238 [==============================] - 5s 4ms/step - loss: 9.3257e-04\n",
      "Epoch 70/100\n",
      "1238/1238 [==============================] - 5s 4ms/step - loss: 8.0417e-04\n",
      "Epoch 71/100\n",
      "1238/1238 [==============================] - 5s 4ms/step - loss: 0.0010\n",
      "Epoch 72/100\n",
      "1238/1238 [==============================] - 5s 4ms/step - loss: 9.4776e-04\n",
      "Epoch 73/100\n",
      "1238/1238 [==============================] - 5s 4ms/step - loss: 9.6089e-04\n",
      "Epoch 74/100\n",
      "1238/1238 [==============================] - 5s 4ms/step - loss: 8.0531e-04\n",
      "Epoch 75/100\n",
      "1238/1238 [==============================] - 5s 4ms/step - loss: 9.1656e-04\n",
      "Epoch 76/100\n",
      "1238/1238 [==============================] - 5s 4ms/step - loss: 9.1119e-04\n",
      "Epoch 77/100\n",
      "1238/1238 [==============================] - 5s 4ms/step - loss: 9.3034e-04\n",
      "Epoch 78/100\n",
      "1238/1238 [==============================] - 5s 4ms/step - loss: 8.7949e-04\n",
      "Epoch 79/100\n",
      "1238/1238 [==============================] - 5s 4ms/step - loss: 9.6536e-04\n",
      "Epoch 80/100\n",
      "1238/1238 [==============================] - 5s 4ms/step - loss: 8.2368e-04\n",
      "Epoch 81/100\n",
      "1238/1238 [==============================] - 5s 4ms/step - loss: 8.1348e-04\n",
      "Epoch 82/100\n",
      "1238/1238 [==============================] - 5s 4ms/step - loss: 9.4081e-04\n",
      "Epoch 83/100\n",
      "1238/1238 [==============================] - 5s 4ms/step - loss: 9.5862e-04\n",
      "Epoch 84/100\n",
      "1238/1238 [==============================] - 5s 4ms/step - loss: 9.3161e-04\n",
      "Epoch 85/100\n",
      "1238/1238 [==============================] - 5s 4ms/step - loss: 7.4917e-04\n",
      "Epoch 86/100\n",
      "1238/1238 [==============================] - 5s 4ms/step - loss: 8.0235e-04\n",
      "Epoch 87/100\n",
      "1238/1238 [==============================] - 5s 4ms/step - loss: 7.8398e-04\n",
      "Epoch 88/100\n",
      "1238/1238 [==============================] - 5s 4ms/step - loss: 0.0011\n",
      "Epoch 89/100\n",
      "1238/1238 [==============================] - 5s 4ms/step - loss: 8.7090e-04\n",
      "Epoch 90/100\n",
      "1238/1238 [==============================] - 5s 4ms/step - loss: 8.7393e-04\n",
      "Epoch 91/100\n",
      "1238/1238 [==============================] - 5s 4ms/step - loss: 8.7771e-04\n",
      "Epoch 92/100\n",
      "1238/1238 [==============================] - 5s 4ms/step - loss: 7.8377e-04\n",
      "Epoch 93/100\n",
      "1238/1238 [==============================] - 5s 4ms/step - loss: 7.8324e-04\n",
      "Epoch 94/100\n",
      "1238/1238 [==============================] - 6s 5ms/step - loss: 8.4377e-04\n",
      "Epoch 95/100\n"
     ]
    },
    {
     "name": "stdout",
     "output_type": "stream",
     "text": [
      "1238/1238 [==============================] - 5s 4ms/step - loss: 9.9585e-04\n",
      "Epoch 96/100\n",
      "1238/1238 [==============================] - 5s 4ms/step - loss: 7.6031e-04\n",
      "Epoch 97/100\n",
      "1238/1238 [==============================] - 5s 4ms/step - loss: 7.7252e-04\n",
      "Epoch 98/100\n",
      "1238/1238 [==============================] - 5s 4ms/step - loss: 7.3266e-04\n",
      "Epoch 99/100\n",
      "1238/1238 [==============================] - 5s 4ms/step - loss: 7.2349e-04\n",
      "Epoch 100/100\n",
      "1238/1238 [==============================] - 5s 4ms/step - loss: 8.8889e-04\n"
     ]
    },
    {
     "data": {
      "text/plain": [
       "<keras.callbacks.callbacks.History at 0x134d2ed0828>"
      ]
     },
     "execution_count": 62,
     "metadata": {},
     "output_type": "execute_result"
    }
   ],
   "source": [
    "regressor = Sequential()\n",
    "\n",
    "regressor.add(LSTM(units = 50, return_sequences = True, input_shape = (X_train.shape[1], 1)))\n",
    "regressor.add(Dropout(0.2))\n",
    "\n",
    "regressor.add(LSTM(units = 50, return_sequences = True))\n",
    "regressor.add(Dropout(0.2))\n",
    "\n",
    "regressor.add(LSTM(units = 50, return_sequences = True))\n",
    "regressor.add(Dropout(0.2))\n",
    "\n",
    "regressor.add(LSTM(units = 50))\n",
    "regressor.add(Dropout(0.2))\n",
    "\n",
    "regressor.add(Dense(units = 1))\n",
    "\n",
    "regressor.compile(optimizer = 'adam', loss = 'mean_squared_error')\n",
    "\n",
    "regressor.fit(X_train, y_train, epochs = 100, batch_size = 32)"
   ]
  },
  {
   "cell_type": "code",
   "execution_count": 63,
   "metadata": {},
   "outputs": [],
   "source": [
    "\n",
    "real_stock_price = dataset_train.iloc[1299:,:].values\n",
    "\n",
    "dataset_total = pd.concat((dataset_train['aapl'], dataset_test['aapl']), axis = 0)\n",
    "inputs = dataset_total[len(dataset_total) - len(dataset_test) - 60:].values\n",
    "inputs = inputs.reshape(-1,1)\n",
    "inputs = sc.transform(inputs)\n",
    "X_test = []\n",
    "for i in range(60, 80):\n",
    "    X_test.append(inputs[i-60:i, 0])\n",
    "X_test = np.array(X_test)\n",
    "X_test = np.reshape(X_test, (X_test.shape[0], X_test.shape[1], 1))\n",
    "predicted_stock_price = regressor.predict(X_test)\n",
    "predicted_stock_price = sc.inverse_transform(predicted_stock_price)"
   ]
  },
  {
   "cell_type": "code",
   "execution_count": 64,
   "metadata": {},
   "outputs": [
    {
     "data": {
      "image/png": "[encoded data removed]",
      "text/plain": [
       "<Figure size 432x288 with 1 Axes>"
      ]
     },
     "metadata": {},
     "output_type": "display_data"
    }
   ],
   "source": [
    "plt.plot(real_stock_price, color = 'blue', label = 'AAPL Stock Price')\n",
    "plt.plot(predicted_stock_price, color = 'red', label = 'Predicted AAPL Stock Price')\n",
    "plt.title('AAPL Stock Price Prediction')\n",
    "plt.xlabel('Time')\n",
    "plt.ylabel('AAPL Stock Price')\n",
    "plt.legend()\n",
    "plt.show()"
   ]
  },
  {
   "cell_type": "code",
   "execution_count": 50,
   "metadata": {},
   "outputs": [
    {
     "data": {
      "text/plain": [
       "20"
      ]
     },
     "execution_count": 50,
     "metadata": {},
     "output_type": "execute_result"
    }
   ],
   "source": [
    "len(predicted_stock_price)"
   ]
  },
  {
   "cell_type": "code",
   "execution_count": null,
   "metadata": {},
   "outputs": [],
   "source": []
  }
 ],
 "metadata": {
  "kernelspec": {
   "display_name": "Python 3",
   "language": "python",
   "name": "python3"
  },
  "language_info": {
   "codemirror_mode": {
    "name": "ipython",
    "version": 3
   },
   "file_extension": ".py",
   "mimetype": "text/x-python",
   "name": "python",
   "nbconvert_exporter": "python",
   "pygments_lexer": "ipython3",
   "version": "3.6.5"
  }
 },
 "nbformat": 4,
 "nbformat_minor": 2
}
